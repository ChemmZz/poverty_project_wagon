{
 "cells": [
  {
   "cell_type": "code",
   "execution_count": null,
   "metadata": {},
   "outputs": [],
   "source": [
    "\n",
    "def calc_year_over_avg(df, state, quarter):\n",
    "# function to calculate year-over-year average for a given state and ending\n",
    "# quarter\n",
    "    if len(df.loc[:quarter].index.values[-4:])==4:\n",
    "        return df[state].loc[df.loc[:quarter].index.values[-4:]].mean()\n",
    "    print(\"Not enough information to get year-over-year average\")"
   ]
  }
 ],
 "metadata": {
  "language_info": {
   "name": "python"
  },
  "orig_nbformat": 4
 },
 "nbformat": 4,
 "nbformat_minor": 2
}
